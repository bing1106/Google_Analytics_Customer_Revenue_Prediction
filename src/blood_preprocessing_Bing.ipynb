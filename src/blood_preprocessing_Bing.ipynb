{
 "cells": [
  {
   "cell_type": "code",
   "execution_count": null,
   "metadata": {},
   "outputs": [],
   "source": [
    "import os\n",
    "os.environ[\"CUDA_VISIBLE_DEVICES\"] = \"0\" # use default of 1 GPU\n",
    "\n",
    "import numpy as np\n",
    "import pandas as pd\n",
    "from scipy import stats\n",
    "import seaborn as sns\n",
    "from sklearn import preprocessing\n",
    "import matplotlib.pyplot as plt\n",
    "%matplotlib inline\n",
    "\n",
    "set working directory"
   ]
  },
  {
   "cell_type": "code",
   "execution_count": null,
   "metadata": {},
   "outputs": [],
   "source": [
    "df_train = pd.read_csv('Data/PM25_train.csv')\n",
    "df_test = pd.read_csv('Data/PM25_test.csv')\n",
    "# df_sample_target = pd.read_csv('Data/sample_submission.csv')\n",
    "\n",
    "print(\"Training Data Dimension: \", df_train.shape) # (7160, 184)\n",
    "print(\"Testing Data Dimension: \", df_test.shape) # (1791, 183)"
   ]
  },
  {
   "cell_type": "code",
   "execution_count": null,
   "metadata": {},
   "outputs": [],
   "source": [
    "# LOTs of duplicates that needs to be gotten rid of\n",
    "train_len_original = len(df_train)\n",
    "df_train.drop_duplicates(keep='first', inplace=True)\n",
    "train_len_deduped = len(df_train)\n",
    "print(\"Total of % duplications removed in training data!\", (train_len_original - train_len_deduped))\n",
    "df_train.reset_index(drop=True, inplace=True)\n",
    "\n",
    "print(\"Deduped training Data Dimension: \", df_train.shape) # (7160, 184)"
   ]
  },
  {
   "cell_type": "code",
   "execution_count": null,
   "metadata": {},
   "outputs": [],
   "source": []
  },
  {
   "cell_type": "code",
   "execution_count": null,
   "metadata": {},
   "outputs": [],
   "source": []
  }
 ],
 "metadata": {
  "kernelspec": {
   "display_name": "Python 3",
   "language": "python",
   "name": "python3"
  },
  "language_info": {
   "codemirror_mode": {
    "name": "ipython",
    "version": 3
   },
   "file_extension": ".py",
   "mimetype": "text/x-python",
   "name": "python",
   "nbconvert_exporter": "python",
   "pygments_lexer": "ipython3",
   "version": "3.6.6"
  }
 },
 "nbformat": 4,
 "nbformat_minor": 2
}
