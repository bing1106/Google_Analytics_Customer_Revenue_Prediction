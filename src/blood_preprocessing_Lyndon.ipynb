{
 "cells": [
  {
   "cell_type": "markdown",
   "metadata": {},
   "source": [
    "# Blood donations prediction"
   ]
  },
  {
   "cell_type": "markdown",
   "metadata": {},
   "source": [
    "### https://www.drivendata.org/competitions/2/warm-up-predict-blood-donations/"
   ]
  },
  {
   "cell_type": "markdown",
   "metadata": {},
   "source": [
    "#### Predict if the donator will donate in March 2007"
   ]
  },
  {
   "cell_type": "code",
   "execution_count": 50,
   "metadata": {},
   "outputs": [],
   "source": [
    "import numpy as np\n",
    "import pandas as pd\n",
    "import matplotlib.pyplot as plt\n",
    "import seaborn as sns"
   ]
  },
  {
   "cell_type": "code",
   "execution_count": 297,
   "metadata": {},
   "outputs": [],
   "source": [
    "training_data = pd.read_csv('../data/BloodDonation_Train.csv')\n",
    "testing_data = pd.read_csv('../data/BloodDonation_Test.csv')"
   ]
  },
  {
   "cell_type": "code",
   "execution_count": 61,
   "metadata": {},
   "outputs": [
    {
     "data": {
      "text/html": [
       "<div>\n",
       "<style scoped>\n",
       "    .dataframe tbody tr th:only-of-type {\n",
       "        vertical-align: middle;\n",
       "    }\n",
       "\n",
       "    .dataframe tbody tr th {\n",
       "        vertical-align: top;\n",
       "    }\n",
       "\n",
       "    .dataframe thead th {\n",
       "        text-align: right;\n",
       "    }\n",
       "</style>\n",
       "<table border=\"1\" class=\"dataframe\">\n",
       "  <thead>\n",
       "    <tr style=\"text-align: right;\">\n",
       "      <th></th>\n",
       "      <th>Unnamed: 0</th>\n",
       "      <th>Months since Last Donation</th>\n",
       "      <th>Number of Donations</th>\n",
       "      <th>Total Volume Donated (c.c.)</th>\n",
       "      <th>Months since First Donation</th>\n",
       "      <th>Made Donation in March 2007</th>\n",
       "    </tr>\n",
       "  </thead>\n",
       "  <tbody>\n",
       "    <tr>\n",
       "      <th>0</th>\n",
       "      <td>619</td>\n",
       "      <td>2</td>\n",
       "      <td>50</td>\n",
       "      <td>12500</td>\n",
       "      <td>98</td>\n",
       "      <td>1</td>\n",
       "    </tr>\n",
       "    <tr>\n",
       "      <th>1</th>\n",
       "      <td>664</td>\n",
       "      <td>0</td>\n",
       "      <td>13</td>\n",
       "      <td>3250</td>\n",
       "      <td>28</td>\n",
       "      <td>1</td>\n",
       "    </tr>\n",
       "    <tr>\n",
       "      <th>2</th>\n",
       "      <td>441</td>\n",
       "      <td>1</td>\n",
       "      <td>16</td>\n",
       "      <td>4000</td>\n",
       "      <td>35</td>\n",
       "      <td>1</td>\n",
       "    </tr>\n",
       "    <tr>\n",
       "      <th>3</th>\n",
       "      <td>160</td>\n",
       "      <td>2</td>\n",
       "      <td>20</td>\n",
       "      <td>5000</td>\n",
       "      <td>45</td>\n",
       "      <td>1</td>\n",
       "    </tr>\n",
       "    <tr>\n",
       "      <th>4</th>\n",
       "      <td>358</td>\n",
       "      <td>1</td>\n",
       "      <td>24</td>\n",
       "      <td>6000</td>\n",
       "      <td>77</td>\n",
       "      <td>0</td>\n",
       "    </tr>\n",
       "  </tbody>\n",
       "</table>\n",
       "</div>"
      ],
      "text/plain": [
       "   Unnamed: 0  Months since Last Donation  Number of Donations  \\\n",
       "0         619                           2                   50   \n",
       "1         664                           0                   13   \n",
       "2         441                           1                   16   \n",
       "3         160                           2                   20   \n",
       "4         358                           1                   24   \n",
       "\n",
       "   Total Volume Donated (c.c.)  Months since First Donation  \\\n",
       "0                        12500                           98   \n",
       "1                         3250                           28   \n",
       "2                         4000                           35   \n",
       "3                         5000                           45   \n",
       "4                         6000                           77   \n",
       "\n",
       "   Made Donation in March 2007  \n",
       "0                            1  \n",
       "1                            1  \n",
       "2                            1  \n",
       "3                            1  \n",
       "4                            0  "
      ]
     },
     "execution_count": 61,
     "metadata": {},
     "output_type": "execute_result"
    }
   ],
   "source": [
    "# training_data.info()\n",
    "training_data.head()"
   ]
  },
  {
   "cell_type": "code",
   "execution_count": 59,
   "metadata": {},
   "outputs": [
    {
     "data": {
      "text/html": [
       "<div>\n",
       "<style scoped>\n",
       "    .dataframe tbody tr th:only-of-type {\n",
       "        vertical-align: middle;\n",
       "    }\n",
       "\n",
       "    .dataframe tbody tr th {\n",
       "        vertical-align: top;\n",
       "    }\n",
       "\n",
       "    .dataframe thead th {\n",
       "        text-align: right;\n",
       "    }\n",
       "</style>\n",
       "<table border=\"1\" class=\"dataframe\">\n",
       "  <thead>\n",
       "    <tr style=\"text-align: right;\">\n",
       "      <th></th>\n",
       "      <th>Months since Last Donation</th>\n",
       "      <th>Number of Donations</th>\n",
       "      <th>Total Volume Donated (c.c.)</th>\n",
       "      <th>Months since First Donation</th>\n",
       "    </tr>\n",
       "  </thead>\n",
       "  <tbody>\n",
       "    <tr>\n",
       "      <th>count</th>\n",
       "      <td>576.000000</td>\n",
       "      <td>576.000000</td>\n",
       "      <td>576.000000</td>\n",
       "      <td>576.000000</td>\n",
       "    </tr>\n",
       "    <tr>\n",
       "      <th>mean</th>\n",
       "      <td>9.439236</td>\n",
       "      <td>5.427083</td>\n",
       "      <td>1356.770833</td>\n",
       "      <td>34.050347</td>\n",
       "    </tr>\n",
       "    <tr>\n",
       "      <th>std</th>\n",
       "      <td>8.175454</td>\n",
       "      <td>5.740010</td>\n",
       "      <td>1435.002556</td>\n",
       "      <td>24.227672</td>\n",
       "    </tr>\n",
       "    <tr>\n",
       "      <th>min</th>\n",
       "      <td>0.000000</td>\n",
       "      <td>1.000000</td>\n",
       "      <td>250.000000</td>\n",
       "      <td>2.000000</td>\n",
       "    </tr>\n",
       "    <tr>\n",
       "      <th>25%</th>\n",
       "      <td>2.000000</td>\n",
       "      <td>2.000000</td>\n",
       "      <td>500.000000</td>\n",
       "      <td>16.000000</td>\n",
       "    </tr>\n",
       "    <tr>\n",
       "      <th>50%</th>\n",
       "      <td>7.000000</td>\n",
       "      <td>4.000000</td>\n",
       "      <td>1000.000000</td>\n",
       "      <td>28.000000</td>\n",
       "    </tr>\n",
       "    <tr>\n",
       "      <th>75%</th>\n",
       "      <td>14.000000</td>\n",
       "      <td>7.000000</td>\n",
       "      <td>1750.000000</td>\n",
       "      <td>49.250000</td>\n",
       "    </tr>\n",
       "    <tr>\n",
       "      <th>max</th>\n",
       "      <td>74.000000</td>\n",
       "      <td>50.000000</td>\n",
       "      <td>12500.000000</td>\n",
       "      <td>98.000000</td>\n",
       "    </tr>\n",
       "  </tbody>\n",
       "</table>\n",
       "</div>"
      ],
      "text/plain": [
       "       Months since Last Donation  Number of Donations  \\\n",
       "count                  576.000000           576.000000   \n",
       "mean                     9.439236             5.427083   \n",
       "std                      8.175454             5.740010   \n",
       "min                      0.000000             1.000000   \n",
       "25%                      2.000000             2.000000   \n",
       "50%                      7.000000             4.000000   \n",
       "75%                     14.000000             7.000000   \n",
       "max                     74.000000            50.000000   \n",
       "\n",
       "       Total Volume Donated (c.c.)  Months since First Donation  \n",
       "count                   576.000000                   576.000000  \n",
       "mean                   1356.770833                    34.050347  \n",
       "std                    1435.002556                    24.227672  \n",
       "min                     250.000000                     2.000000  \n",
       "25%                     500.000000                    16.000000  \n",
       "50%                    1000.000000                    28.000000  \n",
       "75%                    1750.000000                    49.250000  \n",
       "max                   12500.000000                    98.000000  "
      ]
     },
     "execution_count": 59,
     "metadata": {},
     "output_type": "execute_result"
    }
   ],
   "source": [
    "training_data.drop(['Unnamed: 0','Made Donation in March 2007'], axis = 1).describe()"
   ]
  },
  {
   "cell_type": "code",
   "execution_count": 62,
   "metadata": {},
   "outputs": [
    {
     "data": {
      "text/plain": [
       "0    438\n",
       "1    138\n",
       "Name: Made Donation in March 2007, dtype: int64"
      ]
     },
     "execution_count": 62,
     "metadata": {},
     "output_type": "execute_result"
    }
   ],
   "source": [
    "### check the number of data which shows made donation in March 2007\n",
    "training_data['Made Donation in March 2007'].value_counts()"
   ]
  },
  {
   "cell_type": "code",
   "execution_count": 66,
   "metadata": {},
   "outputs": [
    {
     "data": {
      "image/png": "[encoded data removed]",
      "text/plain": [
       "<matplotlib.figure.Figure at 0x1a0e3d5198>"
      ]
     },
     "metadata": {},
     "output_type": "display_data"
    }
   ],
   "source": [
    "fig, ax = plt.subplots(2,2, figsize = (15,10))\n",
    "# plt.figure(figsize = (8,5))\n",
    "\n",
    "feature = training_data.drop(['Unnamed: 0','Made Donation in March 2007'], axis = 1).columns\n",
    "\n",
    "for i in range(2):\n",
    "    for j in range(2):\n",
    "        index = i*2 + j\n",
    "        ax[i, j].hist(training_data[training_data['Made Donation in March 2007'] == 1][feature[index]], bins = 50, color = 'red', alpha = 0.3)\n",
    "        ax[i, j].hist(training_data[training_data['Made Donation in March 2007'] == 0][feature[index]], bins = 50, color = 'blue', alpha = 0.3)\n",
    "        ax[i, j].set_xlabel(feature[index])\n",
    "\n",
    "\n",
    "#### 大致上總捐血量呈現右偏的狀態"
   ]
  },
  {
   "cell_type": "code",
   "execution_count": 68,
   "metadata": {},
   "outputs": [
    {
     "data": {
      "text/plain": [
       "<seaborn.axisgrid.PairGrid at 0x1a1951dfd0>"
      ]
     },
     "execution_count": 68,
     "metadata": {},
     "output_type": "execute_result"
    },
    {
     "data": {
      "image/png": "[encoded data removed]",
      "text/plain": [
       "<matplotlib.figure.Figure at 0x1a1951d5c0>"
      ]
     },
     "metadata": {},
     "output_type": "display_data"
    }
   ],
   "source": [
    "\"\"\"EDA\"\"\"\n",
    "sns.pairplot(training_data.drop(['Unnamed: 0'], axis = 1), hue = 'Made Donation in March 2007')\n",
    "## accriding to the pairplot, except the feature \"total Volumne Donated\" and the \"Number of donations\" has a highly correlation,\n",
    "## which is obvious, the more times you donated the more volumns you donated, so I'll eliminate one."
   ]
  },
  {
   "cell_type": "code",
   "execution_count": 320,
   "metadata": {},
   "outputs": [],
   "source": [
    "from sklearn.preprocessing import scale\n",
    "def clean_data(data, train_flag = True):\n",
    "    new_data = data.copy()\n",
    "    new_data.drop(['Unnamed: 0','Total Volume Donated (c.c.)'], axis = 1, inplace = True)\n",
    "    X = scale(new_data.drop(['Made Donation in March 2007'], axis = 1))\n",
    "    X = pd.DataFrame(X, columns=['Months since Last Donation', 'Number of Donations', 'Months since First Donation'])\n",
    "    if train_flag:\n",
    "        y = new_data['Made Donation in March 2007']\n",
    "        return X, y\n",
    "    else:\n",
    "        return X"
   ]
  },
  {
   "cell_type": "code",
   "execution_count": 323,
   "metadata": {},
   "outputs": [
    {
     "data": {
      "text/plain": [
       "<matplotlib.axes._subplots.AxesSubplot at 0x1a1fc98128>"
      ]
     },
     "execution_count": 323,
     "metadata": {},
     "output_type": "execute_result"
    },
    {
     "data": {
      "image/png": "[encoded data removed]",
      "text/plain": [
       "<matplotlib.figure.Figure at 0x1a1fd79ef0>"
      ]
     },
     "metadata": {},
     "output_type": "display_data"
    }
   ],
   "source": [
    "X, y = clean_data(training_data)\n",
    "sns.heatmap(X.corr())"
   ]
  },
  {
   "cell_type": "markdown",
   "metadata": {},
   "source": [
    "____\n",
    "#### use a simple logistic regressor and see if this doing well\n",
    "____"
   ]
  },
  {
   "cell_type": "code",
   "execution_count": 324,
   "metadata": {},
   "outputs": [],
   "source": [
    "from sklearn.linear_model import LogisticRegression\n",
    "from sklearn.model_selection import train_test_split\n",
    "from sklearn.metrics import classification_report"
   ]
  },
  {
   "cell_type": "code",
   "execution_count": 372,
   "metadata": {},
   "outputs": [
    {
     "name": "stdout",
     "output_type": "stream",
     "text": [
      "number of training data:  460\n",
      "number of testing data:  116\n",
      "<class 'pandas.core.frame.DataFrame'>\n",
      "RangeIndex: 576 entries, 0 to 575\n",
      "Data columns (total 3 columns):\n",
      "Months since Last Donation     576 non-null float64\n",
      "Number of Donations            576 non-null float64\n",
      "Months since First Donation    576 non-null float64\n",
      "dtypes: float64(3)\n",
      "memory usage: 13.6 KB\n"
     ]
    }
   ],
   "source": [
    "X, y = clean_data(training_data)\n",
    "X_train, X_test, y_train, y_test = train_test_split(X, y, test_size=0.2, random_state=42)\n",
    "print('number of training data: ',len(X_train))\n",
    "print('number of testing data: ', len(X_test))\n",
    "X.info()"
   ]
  },
  {
   "cell_type": "code",
   "execution_count": 373,
   "metadata": {},
   "outputs": [
    {
     "data": {
      "text/plain": [
       "LogisticRegression(C=1.0, class_weight=None, dual=False, fit_intercept=True,\n",
       "          intercept_scaling=1, max_iter=100, multi_class='ovr', n_jobs=1,\n",
       "          penalty='l2', random_state=None, solver='liblinear', tol=0.0001,\n",
       "          verbose=0, warm_start=False)"
      ]
     },
     "execution_count": 373,
     "metadata": {},
     "output_type": "execute_result"
    }
   ],
   "source": [
    "logits_model = LogisticRegression()\n",
    "logits_model.fit(X_train, y_train)"
   ]
  },
  {
   "cell_type": "code",
   "execution_count": 374,
   "metadata": {},
   "outputs": [
    {
     "name": "stdout",
     "output_type": "stream",
     "text": [
      "             precision    recall  f1-score   support\n",
      "\n",
      "          0       0.76      1.00      0.86        87\n",
      "          1       1.00      0.03      0.07        29\n",
      "\n",
      "avg / total       0.82      0.76      0.66       116\n",
      "\n"
     ]
    }
   ],
   "source": [
    "logits_predict = logits_model.predict(X_test)\n",
    "print(classification_report(y_test, logits_predict))"
   ]
  },
  {
   "cell_type": "markdown",
   "metadata": {},
   "source": [
    "____\n",
    "#### SVM\n",
    "____"
   ]
  },
  {
   "cell_type": "code",
   "execution_count": 375,
   "metadata": {},
   "outputs": [],
   "source": [
    "from sklearn.svm import SVC"
   ]
  },
  {
   "cell_type": "code",
   "execution_count": 376,
   "metadata": {},
   "outputs": [
    {
     "data": {
      "text/plain": [
       "SVC(C=1.0, cache_size=200, class_weight=None, coef0=0.0,\n",
       "  decision_function_shape='ovr', degree=3, gamma='auto', kernel='rbf',\n",
       "  max_iter=-1, probability=False, random_state=None, shrinking=True,\n",
       "  tol=0.001, verbose=False)"
      ]
     },
     "execution_count": 376,
     "metadata": {},
     "output_type": "execute_result"
    }
   ],
   "source": [
    "svc = SVC()\n",
    "svc.fit(X_train, y_train)"
   ]
  },
  {
   "cell_type": "code",
   "execution_count": 377,
   "metadata": {},
   "outputs": [
    {
     "name": "stdout",
     "output_type": "stream",
     "text": [
      "             precision    recall  f1-score   support\n",
      "\n",
      "          0       0.76      1.00      0.86        87\n",
      "          1       1.00      0.03      0.07        29\n",
      "\n",
      "avg / total       0.82      0.76      0.66       116\n",
      "\n"
     ]
    }
   ],
   "source": [
    "predict_svc = svc.predict(X_test)\n",
    "print(classification_report(y_test, predict_svc))"
   ]
  },
  {
   "cell_type": "markdown",
   "metadata": {},
   "source": [
    "____\n",
    "#### Trees\n",
    "____"
   ]
  },
  {
   "cell_type": "code",
   "execution_count": 331,
   "metadata": {},
   "outputs": [],
   "source": [
    "from sklearn.ensemble import RandomForestClassifier\n",
    "from sklearn.tree import DecisionTreeClassifier"
   ]
  },
  {
   "cell_type": "code",
   "execution_count": 332,
   "metadata": {},
   "outputs": [
    {
     "data": {
      "text/plain": [
       "RandomForestClassifier(bootstrap=True, class_weight=None, criterion='gini',\n",
       "            max_depth=None, max_features='auto', max_leaf_nodes=None,\n",
       "            min_impurity_decrease=0.0, min_impurity_split=None,\n",
       "            min_samples_leaf=1, min_samples_split=2,\n",
       "            min_weight_fraction_leaf=0.0, n_estimators=10, n_jobs=1,\n",
       "            oob_score=False, random_state=None, verbose=0,\n",
       "            warm_start=False)"
      ]
     },
     "execution_count": 332,
     "metadata": {},
     "output_type": "execute_result"
    }
   ],
   "source": [
    "random_tree = RandomForestClassifier()\n",
    "random_tree.fit(X_train, y_train)"
   ]
  },
  {
   "cell_type": "code",
   "execution_count": 333,
   "metadata": {},
   "outputs": [
    {
     "name": "stdout",
     "output_type": "stream",
     "text": [
      "             precision    recall  f1-score   support\n",
      "\n",
      "          0       0.81      0.84      0.82        87\n",
      "          1       0.46      0.41      0.44        29\n",
      "\n",
      "avg / total       0.72      0.73      0.73       116\n",
      "\n"
     ]
    }
   ],
   "source": [
    "predict_rtree = random_tree.predict(X_test)\n",
    "print(classification_report(y_test, predict_rtree))"
   ]
  },
  {
   "cell_type": "code",
   "execution_count": 366,
   "metadata": {},
   "outputs": [
    {
     "data": {
      "text/plain": [
       "DecisionTreeClassifier(class_weight=None, criterion='gini', max_depth=3,\n",
       "            max_features=None, max_leaf_nodes=None,\n",
       "            min_impurity_decrease=0.0, min_impurity_split=None,\n",
       "            min_samples_leaf=1, min_samples_split=2,\n",
       "            min_weight_fraction_leaf=0.0, presort=False, random_state=None,\n",
       "            splitter='best')"
      ]
     },
     "execution_count": 366,
     "metadata": {},
     "output_type": "execute_result"
    }
   ],
   "source": [
    "decision_tree = DecisionTreeClassifier(max_depth=3) ### depth is better at 3\n",
    "decision_tree.fit(X_train, y_train)"
   ]
  },
  {
   "cell_type": "code",
   "execution_count": 367,
   "metadata": {},
   "outputs": [
    {
     "name": "stdout",
     "output_type": "stream",
     "text": [
      "             precision    recall  f1-score   support\n",
      "\n",
      "          0       0.53      0.73      0.62        11\n",
      "          1       0.77      0.59      0.67        17\n",
      "\n",
      "avg / total       0.68      0.64      0.65        28\n",
      "\n"
     ]
    }
   ],
   "source": [
    "predict_dtree = decision_tree.predict(X_test)\n",
    "print(classification_report(y_test, predict_dtree))"
   ]
  },
  {
   "cell_type": "code",
   "execution_count": 336,
   "metadata": {},
   "outputs": [
    {
     "data": {
      "text/plain": [
       "AdaBoostClassifier(algorithm='SAMME.R',\n",
       "          base_estimator=DecisionTreeClassifier(class_weight=None, criterion='gini', max_depth=3,\n",
       "            max_features=None, max_leaf_nodes=None,\n",
       "            min_impurity_decrease=0.0, min_impurity_split=None,\n",
       "            min_samples_leaf=1, min_samples_split=2,\n",
       "            min_weight_fraction_leaf=0.0, presort=False, random_state=None,\n",
       "            splitter='best'),\n",
       "          learning_rate=1.0, n_estimators=50, random_state=None)"
      ]
     },
     "execution_count": 336,
     "metadata": {},
     "output_type": "execute_result"
    }
   ],
   "source": [
    "##### Decisiontree with Adaboost\n",
    "from sklearn.ensemble import AdaBoostClassifier\n",
    "ada_model = AdaBoostClassifier(base_estimator=DecisionTreeClassifier(max_depth=3))\n",
    "ada_model.fit(X_train, y_train)"
   ]
  },
  {
   "cell_type": "code",
   "execution_count": 337,
   "metadata": {},
   "outputs": [
    {
     "name": "stdout",
     "output_type": "stream",
     "text": [
      "             precision    recall  f1-score   support\n",
      "\n",
      "          0       0.82      0.86      0.84        87\n",
      "          1       0.50      0.41      0.45        29\n",
      "\n",
      "avg / total       0.74      0.75      0.74       116\n",
      "\n"
     ]
    }
   ],
   "source": [
    "ada_predict = ada_model.predict(X_test)\n",
    "print(classification_report(y_test, ada_predict))"
   ]
  },
  {
   "cell_type": "markdown",
   "metadata": {},
   "source": [
    "____\n",
    "#### GB and XGB\n",
    "____"
   ]
  },
  {
   "cell_type": "code",
   "execution_count": 338,
   "metadata": {},
   "outputs": [],
   "source": [
    "from xgboost import XGBClassifier\n",
    "from sklearn.ensemble import GradientBoostingClassifier"
   ]
  },
  {
   "cell_type": "code",
   "execution_count": 343,
   "metadata": {},
   "outputs": [
    {
     "data": {
      "text/plain": [
       "XGBClassifier(base_score=0.5, booster='gbtree', colsample_bylevel=1,\n",
       "       colsample_bytree=1, gamma=0, learning_rate=0.1, max_delta_step=0,\n",
       "       max_depth=3, min_child_weight=1, missing=None, n_estimators=100,\n",
       "       n_jobs=1, nthread=None, objective='binary:logistic', random_state=0,\n",
       "       reg_alpha=0, reg_lambda=1, scale_pos_weight=1, seed=None,\n",
       "       silent=True, subsample=1)"
      ]
     },
     "execution_count": 343,
     "metadata": {},
     "output_type": "execute_result"
    }
   ],
   "source": [
    "xgb_model = XGBClassifier()\n",
    "xgb_model.fit(X_train, y_train)"
   ]
  },
  {
   "cell_type": "code",
   "execution_count": 344,
   "metadata": {},
   "outputs": [
    {
     "name": "stdout",
     "output_type": "stream",
     "text": [
      "             precision    recall  f1-score   support\n",
      "\n",
      "          0       0.85      0.94      0.89        87\n",
      "          1       0.74      0.48      0.58        29\n",
      "\n",
      "avg / total       0.82      0.83      0.81       116\n",
      "\n"
     ]
    }
   ],
   "source": [
    "xgb_predict = xgb_model.predict(X_test)\n",
    "print(classification_report(y_test, xgb_predict))"
   ]
  },
  {
   "cell_type": "code",
   "execution_count": 345,
   "metadata": {},
   "outputs": [
    {
     "data": {
      "text/plain": [
       "GradientBoostingClassifier(criterion='friedman_mse', init=None,\n",
       "              learning_rate=0.1, loss='deviance', max_depth=3,\n",
       "              max_features=None, max_leaf_nodes=None,\n",
       "              min_impurity_decrease=0.0, min_impurity_split=None,\n",
       "              min_samples_leaf=1, min_samples_split=2,\n",
       "              min_weight_fraction_leaf=0.0, n_estimators=100,\n",
       "              presort='auto', random_state=None, subsample=1.0, verbose=0,\n",
       "              warm_start=False)"
      ]
     },
     "execution_count": 345,
     "metadata": {},
     "output_type": "execute_result"
    }
   ],
   "source": [
    "gb_model = GradientBoostingClassifier()\n",
    "gb_model.fit(X_train, y_train)"
   ]
  },
  {
   "cell_type": "code",
   "execution_count": 346,
   "metadata": {},
   "outputs": [
    {
     "name": "stdout",
     "output_type": "stream",
     "text": [
      "             precision    recall  f1-score   support\n",
      "\n",
      "          0       0.81      0.86      0.83        87\n",
      "          1       0.48      0.38      0.42        29\n",
      "\n",
      "avg / total       0.72      0.74      0.73       116\n",
      "\n"
     ]
    }
   ],
   "source": [
    "gb_predict = gb_model.predict(X_test)\n",
    "print(classification_report(y_test, gb_predict))"
   ]
  },
  {
   "cell_type": "markdown",
   "metadata": {},
   "source": [
    "#### 有鑒於上面的各個模型針對\"1\"類別，也就是實際在三月時有回去捐血的類別並沒有辦法準確預測，可能是類別資料不平衡的關係，因此擬嘗試使用over-sampling or under-sampling處理資料。"
   ]
  },
  {
   "cell_type": "code",
   "execution_count": 347,
   "metadata": {},
   "outputs": [
    {
     "name": "stdout",
     "output_type": "stream",
     "text": [
      "438 138\n"
     ]
    }
   ],
   "source": [
    "### under-sampling\n",
    "training_data_0 = training_data[training_data['Made Donation in March 2007'] == 0]\n",
    "training_data_1 = training_data[training_data['Made Donation in March 2007'] == 1]\n",
    "print(len(training_data_0), len(training_data_1))"
   ]
  },
  {
   "cell_type": "code",
   "execution_count": 348,
   "metadata": {},
   "outputs": [],
   "source": [
    "training_data_0 = training_data_0.sample(138)  ### downsample to 138 data\n",
    "train_data_undersample = pd.concat([training_data_0,training_data_1])"
   ]
  },
  {
   "cell_type": "code",
   "execution_count": 349,
   "metadata": {},
   "outputs": [],
   "source": [
    "X, y = clean_data(train_data_undersample)\n",
    "X_train, X_test, y_train, y_test = train_test_split(X, y, test_size = 0.1, random_state = 42)"
   ]
  },
  {
   "cell_type": "code",
   "execution_count": 350,
   "metadata": {},
   "outputs": [
    {
     "name": "stdout",
     "output_type": "stream",
     "text": [
      "number of training data:  248\n",
      "number of testing data:  28\n"
     ]
    }
   ],
   "source": [
    "print('number of training data: ',len(X_train))\n",
    "print('number of testing data: ', len(X_test))"
   ]
  },
  {
   "cell_type": "code",
   "execution_count": 351,
   "metadata": {},
   "outputs": [
    {
     "name": "stdout",
     "output_type": "stream",
     "text": [
      "SVC\n",
      "             precision    recall  f1-score   support\n",
      "\n",
      "          0       0.67      0.73      0.70        11\n",
      "          1       0.81      0.76      0.79        17\n",
      "\n",
      "avg / total       0.76      0.75      0.75        28\n",
      "\n",
      "########################\n",
      "DecisionTreeClassifier\n",
      "             precision    recall  f1-score   support\n",
      "\n",
      "          0       0.53      0.73      0.62        11\n",
      "          1       0.77      0.59      0.67        17\n",
      "\n",
      "avg / total       0.68      0.64      0.65        28\n",
      "\n",
      "########################\n",
      "XGBClassifier\n",
      "             precision    recall  f1-score   support\n",
      "\n",
      "          0       0.60      0.82      0.69        11\n",
      "          1       0.85      0.65      0.73        17\n",
      "\n",
      "avg / total       0.75      0.71      0.72        28\n",
      "\n",
      "########################\n",
      "VotingClassifier\n",
      "             precision    recall  f1-score   support\n",
      "\n",
      "          0       0.60      0.82      0.69        11\n",
      "          1       0.85      0.65      0.73        17\n",
      "\n",
      "avg / total       0.75      0.71      0.72        28\n",
      "\n",
      "########################\n"
     ]
    }
   ],
   "source": [
    "#### evaluation of all the model\n",
    "from sklearn.ensemble import VotingClassifier\n",
    "svc_under = SVC()\n",
    "decisiontree_under = DecisionTreeClassifier(max_depth=3)\n",
    "xgb_under = XGBClassifier()\n",
    "voting_under = VotingClassifier(estimators=[('svc', svc_under), ('dt', decisiontree_under), ('xgb', xgb_under)])\n",
    "\n",
    "for model in [svc_under, decisiontree_under, xgb_under, voting_under]:\n",
    "    model.fit(X_train, y_train)\n",
    "    predict = model.predict(X_test)\n",
    "    print(model.__class__.__name__)\n",
    "    print(classification_report(y_test, predict))\n",
    "    print('########################')\n",
    "    \n",
    "#### 從under-sampling 結果來看，類別“1\"的recall有明顯提升，而平均準確率約在六成左右，接下來試試看stacking"
   ]
  },
  {
   "cell_type": "markdown",
   "metadata": {},
   "source": [
    "### Stacking"
   ]
  },
  {
   "cell_type": "code",
   "execution_count": 352,
   "metadata": {},
   "outputs": [],
   "source": [
    "class one_layer_stacking_model():\n",
    "    \"\"\"\n",
    "    input the models as s list \"[svm, xgb, logistic]\"\n",
    "    \"\"\"\n",
    "    def __init__(self, models, blender):\n",
    "        assert len(models) > 0, \"at least give one model\"\n",
    "        self.models = {}\n",
    "        print(\"models selected to do stacking: \")\n",
    "        for m in models:\n",
    "            self.models[m.__class__.__name__] = m\n",
    "            print(m.__class__.__name__)\n",
    "        self.blender = blender\n",
    "        print(\"blender model: \")\n",
    "        print(self.blender.__class__.__name__)\n",
    "        \n",
    "    def fit(self, X, y):\n",
    "        blender_input = []  ### use to store prediction for every models\n",
    "        X_train, X_test, y_train, y_test = train_test_split(X, y, test_size=0.3, random_state=42)\n",
    "        for m in self.models:\n",
    "            self.models[m].fit(X_train, y_train)\n",
    "            blender_input.append(self.models[m].predict(X_test))\n",
    "        blender_input = np.asarray(blender_input).reshape(len(X_test),3)\n",
    "#         return blender_input\n",
    "        self.blender.fit(blender_input, np.asarray(y_test))\n",
    "        \n",
    "    def predict(self, X):\n",
    "        blender_input = []\n",
    "        for m in self.models:\n",
    "            blender_input.append(self.models[m].predict(X))\n",
    "        blender_input = np.asarray(blender_input).reshape(len(X),3)\n",
    "        return self.blender.predict(blender_input)"
   ]
  },
  {
   "cell_type": "code",
   "execution_count": 353,
   "metadata": {},
   "outputs": [
    {
     "name": "stdout",
     "output_type": "stream",
     "text": [
      "models selected to do stacking: \n",
      "SVC\n",
      "DecisionTreeClassifier\n",
      "RandomForestClassifier\n",
      "blender model: \n",
      "XGBClassifier\n"
     ]
    }
   ],
   "source": [
    "svc_stacking = SVC()\n",
    "decisiontree_stacking = DecisionTreeClassifier()\n",
    "randomforest_stacking = RandomForestClassifier()\n",
    "xgb_stacking = XGBClassifier()\n",
    "\n",
    "voting_stacking = VotingClassifier(estimators=[('svc', svc_under), ('dt', decisiontree_under), ('xgb', xgb_under)])\n",
    "\n",
    "one_layer_model = one_layer_stacking_model([svc_stacking, decisiontree_stacking, randomforest_stacking], xgb_stacking)"
   ]
  },
  {
   "cell_type": "code",
   "execution_count": 354,
   "metadata": {},
   "outputs": [],
   "source": [
    "one_layer_model.fit(X_train, y_train)"
   ]
  },
  {
   "cell_type": "code",
   "execution_count": 355,
   "metadata": {},
   "outputs": [
    {
     "name": "stdout",
     "output_type": "stream",
     "text": [
      "             precision    recall  f1-score   support\n",
      "\n",
      "          0       0.41      0.82      0.55        11\n",
      "          1       0.67      0.24      0.35        17\n",
      "\n",
      "avg / total       0.57      0.46      0.43        28\n",
      "\n"
     ]
    }
   ],
   "source": [
    "one_layer_model_predict = one_layer_model.predict(X_test)\n",
    "print(classification_report(y_test, one_layer_model_predict))"
   ]
  },
  {
   "cell_type": "markdown",
   "metadata": {},
   "source": [
    "#### 經過這麼多模型的測試，準確率都沒有辦法顯著提升，因此很可能是ＥＤＡ做的不夠，亦或者是沒有辦法找到較佳的參數組合。因此接下來在針對這兩者再著墨。"
   ]
  },
  {
   "cell_type": "code",
   "execution_count": 298,
   "metadata": {},
   "outputs": [
    {
     "data": {
      "text/html": [
       "<div>\n",
       "<style scoped>\n",
       "    .dataframe tbody tr th:only-of-type {\n",
       "        vertical-align: middle;\n",
       "    }\n",
       "\n",
       "    .dataframe tbody tr th {\n",
       "        vertical-align: top;\n",
       "    }\n",
       "\n",
       "    .dataframe thead th {\n",
       "        text-align: right;\n",
       "    }\n",
       "</style>\n",
       "<table border=\"1\" class=\"dataframe\">\n",
       "  <thead>\n",
       "    <tr style=\"text-align: right;\">\n",
       "      <th></th>\n",
       "      <th>Months since Last Donation</th>\n",
       "      <th>Number of Donations</th>\n",
       "      <th>Months since First Donation</th>\n",
       "    </tr>\n",
       "  </thead>\n",
       "  <tbody>\n",
       "    <tr>\n",
       "      <th>0</th>\n",
       "      <td>2</td>\n",
       "      <td>12</td>\n",
       "      <td>52</td>\n",
       "    </tr>\n",
       "    <tr>\n",
       "      <th>1</th>\n",
       "      <td>21</td>\n",
       "      <td>7</td>\n",
       "      <td>38</td>\n",
       "    </tr>\n",
       "    <tr>\n",
       "      <th>2</th>\n",
       "      <td>4</td>\n",
       "      <td>1</td>\n",
       "      <td>4</td>\n",
       "    </tr>\n",
       "    <tr>\n",
       "      <th>3</th>\n",
       "      <td>11</td>\n",
       "      <td>11</td>\n",
       "      <td>38</td>\n",
       "    </tr>\n",
       "    <tr>\n",
       "      <th>4</th>\n",
       "      <td>4</td>\n",
       "      <td>12</td>\n",
       "      <td>34</td>\n",
       "    </tr>\n",
       "  </tbody>\n",
       "</table>\n",
       "</div>"
      ],
      "text/plain": [
       "   Months since Last Donation  Number of Donations  \\\n",
       "0                           2                   12   \n",
       "1                          21                    7   \n",
       "2                           4                    1   \n",
       "3                          11                   11   \n",
       "4                           4                   12   \n",
       "\n",
       "   Months since First Donation  \n",
       "0                           52  \n",
       "1                           38  \n",
       "2                            4  \n",
       "3                           38  \n",
       "4                           34  "
      ]
     },
     "execution_count": 298,
     "metadata": {},
     "output_type": "execute_result"
    }
   ],
   "source": [
    "testing_data_clean = testing_data.drop(['Total Volume Donated (c.c.)', 'Unnamed: 0'], axis = 1)\n",
    "testing_data_clean.head()"
   ]
  },
  {
   "cell_type": "code",
   "execution_count": 370,
   "metadata": {},
   "outputs": [],
   "source": [
    "def testing_predict(model, name, data):\n",
    "    prediction = model.predict(data)\n",
    "    submit_df = pd.DataFrame({'No.': testing_data['Unnamed: 0'].values, 'Made Donation in March 2007': prediction})\n",
    "    submit_df = submit_df[['No.', 'Made Donation in March 2007']]\n",
    "    submit_df['Made Donation in March 2007'] = submit_df['Made Donation in March 2007'].astype(np.float64)\n",
    "    submit_df.to_csv('{}.csv'.format(name), index = False)\n",
    "    print('prediction saved: {}'.format(name))"
   ]
  },
  {
   "cell_type": "code",
   "execution_count": 379,
   "metadata": {},
   "outputs": [
    {
     "name": "stdout",
     "output_type": "stream",
     "text": [
      "prediction saved: submit_xgb_3_no_under_sample\n"
     ]
    }
   ],
   "source": [
    "testing_predict(xgb_model, 'submit_xgb_3_no_under_sample', testing_data_clean)"
   ]
  },
  {
   "cell_type": "markdown",
   "metadata": {},
   "source": [
    "### not yet finish.."
   ]
  },
  {
   "cell_type": "markdown",
   "metadata": {},
   "source": [
    "#### Try Gridsearch"
   ]
  },
  {
   "cell_type": "code",
   "execution_count": 380,
   "metadata": {},
   "outputs": [],
   "source": [
    "from sklearn.model_selection import GridSearchCV, RandomizedSearchCV"
   ]
  },
  {
   "cell_type": "code",
   "execution_count": null,
   "metadata": {},
   "outputs": [],
   "source": [
    "RandomizedSearchCV()"
   ]
  }
 ],
 "metadata": {
  "kernelspec": {
   "display_name": "Python 3",
   "language": "python",
   "name": "python3"
  },
  "language_info": {
   "codemirror_mode": {
    "name": "ipython",
    "version": 3
   },
   "file_extension": ".py",
   "mimetype": "text/x-python",
   "name": "python",
   "nbconvert_exporter": "python",
   "pygments_lexer": "ipython3",
   "version": "3.6.4"
  }
 },
 "nbformat": 4,
 "nbformat_minor": 2
}
